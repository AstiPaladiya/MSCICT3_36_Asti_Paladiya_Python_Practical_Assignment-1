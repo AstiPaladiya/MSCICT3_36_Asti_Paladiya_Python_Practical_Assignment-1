{
 "cells": [
  {
   "cell_type": "code",
   "execution_count": 1,
   "id": "6661fb20-2975-4493-bd3a-9d245c78e272",
   "metadata": {},
   "outputs": [
    {
     "name": "stdin",
     "output_type": "stream",
     "text": [
      "Enter Number1 value:- 12\n",
      "Enter Number 2 Value:- 23\n"
     ]
    },
    {
     "name": "stdout",
     "output_type": "stream",
     "text": [
      "Result: 276\n"
     ]
    }
   ],
   "source": [
    "#Program-1\n",
    "\n",
    "def product_of_sum(a,b):\n",
    "    product=a*b\n",
    "    if product>1000:\n",
    "        return a+b\n",
    "    else:\n",
    "        return product\n",
    "num1=int(input(\"Enter Number1 value:-\"))\n",
    "num2=int(input(\"Enter Number 2 Value:-\"))\n",
    "result=product_of_sum(num1,num2)\n",
    "print(\"Result:\",result)\n"
   ]
  },
  {
   "cell_type": "code",
   "execution_count": 9,
   "id": "b9c9f5ff-8acf-4e06-9bb0-4962acc3d571",
   "metadata": {},
   "outputs": [
    {
     "name": "stdout",
     "output_type": "stream",
     "text": [
      "Printing Sum of current and privous  number in range(10):\n",
      "Current Number:0,Previous num:0,Sum:0\n",
      "Current Number:1,Previous num:0,Sum:1\n",
      "Current Number:2,Previous num:1,Sum:3\n",
      "Current Number:3,Previous num:2,Sum:5\n",
      "Current Number:4,Previous num:3,Sum:7\n",
      "Current Number:5,Previous num:4,Sum:9\n",
      "Current Number:6,Previous num:5,Sum:11\n",
      "Current Number:7,Previous num:6,Sum:13\n",
      "Current Number:8,Previous num:7,Sum:15\n",
      "Current Number:9,Previous num:8,Sum:17\n"
     ]
    }
   ],
   "source": [
    "#Program-2\n",
    "\n",
    "print(\"Printing Sum of current and privous  number in range(10):\")\n",
    "previous_num=0\n",
    "for current_num in range(10):\n",
    "    sum_num=current_num+previous_num\n",
    "    print(f\"Current Number:{current_num},Previous num:{previous_num},Sum:{sum_num}\")\n",
    "    previous_num=current_num"
   ]
  },
  {
   "cell_type": "code",
   "execution_count": 10,
   "id": "6a95e3f8-3d38-49ae-babb-729b1f91dd89",
   "metadata": {},
   "outputs": [
    {
     "name": "stdin",
     "output_type": "stream",
     "text": [
      "Enter a string Asti\n"
     ]
    },
    {
     "name": "stdout",
     "output_type": "stream",
     "text": [
      "Character at even index position:\n",
      "Index 0: A\n",
      "Index 2: t\n"
     ]
    }
   ],
   "source": [
    "#Program-3\n",
    "\n",
    "def print_even_index_chars(s):\n",
    "    print(\"Character at even index position:\")\n",
    "    for i in range(0,len(s),2):\n",
    "        print(f\"Index {i}: {s[i]}\")\n",
    "user_input=input(\"Enter a string\")\n",
    "print_even_index_chars(user_input)"
   ]
  },
  {
   "cell_type": "code",
   "execution_count": 14,
   "id": "1a7a6662-5f2f-4e55-90f3-34d6e62c6ea2",
   "metadata": {},
   "outputs": [
    {
     "name": "stdout",
     "output_type": "stream",
     "text": [
      "result:- True\n"
     ]
    }
   ],
   "source": [
    "#Program-4\n",
    "\n",
    "def check_first_last(nums):\n",
    "        if nums[0]== nums[-1]:\n",
    "            return True\n",
    "        else:\n",
    "            return False\n",
    "\n",
    "number=[10,20,30,40,10]\n",
    "result=check_first_last(number)\n",
    "print(\"result:-\",result)"
   ]
  },
  {
   "cell_type": "code",
   "execution_count": 16,
   "id": "21d91882-0a24-4fc4-b34a-2d6e3f2965b3",
   "metadata": {},
   "outputs": [
    {
     "name": "stdout",
     "output_type": "stream",
     "text": [
      "Newly created list is:- [20, 40, 10, 30, 50]\n"
     ]
    }
   ],
   "source": [
    "#Program-5\n",
    "\n",
    "def create_new_list(list1,list2,list3):\n",
    "    for l1 in range(1,len(list1),2):\n",
    "        list3.append(list1[l1])\n",
    "    for l2 in range(0,len(list2),2):\n",
    "        list3.append(list2[l2])\n",
    "    return list3\n",
    "list1=[10,20,30,40,50]\n",
    "list2=[10,20,30,40,50]\n",
    "list3=[]\n",
    "result=create_new_list(list1,list2,list3)\n",
    "print(\"Newly created list is:-\",result)"
   ]
  },
  {
   "cell_type": "code",
   "execution_count": 2,
   "id": "a8cf849a-e95f-4c35-baa6-6b0618fbe912",
   "metadata": {},
   "outputs": [
    {
     "name": "stdin",
     "output_type": "stream",
     "text": [
      "Enter list element separated by comma:- 45,34,34,23,67,88,90\n"
     ]
    },
    {
     "name": "stdout",
     "output_type": "stream",
     "text": [
      "Modified list:- [45, 67, 34, 34, 23, 88, 90, 67]\n"
     ]
    }
   ],
   "source": [
    "#Program-6\n",
    "\n",
    "class ListModifier:\n",
    "    def __init__(self,input_list):\n",
    "        self.lst=input_list\n",
    "   \n",
    "    def modify_list(self):\n",
    "        if len(self.lst)>4:\n",
    "            element=self.lst.pop(4)\n",
    "            self.lst.insert(1,element)\n",
    "            self.lst.append(element)\n",
    "            return self.lst\n",
    "\n",
    "        else:\n",
    "            return print(\"List must have at least 5 elements to perform this operation.\")\n",
    "   \n",
    "user_input=input(\"Enter list element separated by comma:-\")\n",
    "input_list=[int(x) for x in user_input.split(\",\")]\n",
    "\n",
    "modifier=ListModifier(input_list)\n",
    "\n",
    "modified_list=modifier.modify_list()\n",
    "print(\"Modified list:-\",modified_list)"
   ]
  },
  {
   "cell_type": "code",
   "execution_count": 5,
   "id": "bb7c48f0-9ade-44c8-9211-b5ff766e9f8c",
   "metadata": {},
   "outputs": [],
   "source": [
    "#Program-7\n",
    "\n",
    "def slice_and_reverse(lst):\n",
    "    n = len(lst)  # 1. Calculate the length of the list\n",
    "    if n % 3 != 0:  # 2. Check if the length is divisible by 3\n",
    "        print(\"List length is not divisible by 3.\")\n",
    "        return None\n",
    "   \n",
    "    chunk_size = n // 3  # 3. Calculate size of each chunk by integer division\n",
    "   \n",
    "    chunks = []  # 4. Initialize an empty list to store chunks\n",
    "   \n",
    "    # 5. Loop through the list in steps of chunk_size\n",
    "    for i in range(0, n, chunk_size):\n",
    "        chunk = lst[i:i+chunk_size]  # 6. Slice out a chunk from i to i+chunk_size\n",
    "        chunks.append(chunk[::-1])   # 7. Reverse the chunk using slicing [::-1] and append to chunks\n",
    "        return chunks  # 8. Return the list of reversed chunks\n",
    "\n",
    "list="
   ]
  },
  {
   "cell_type": "code",
   "execution_count": 7,
   "id": "f6ac1440-548c-496b-b4ad-79849499c53a",
   "metadata": {},
   "outputs": [
    {
     "name": "stdout",
     "output_type": "stream",
     "text": [
      "Element Count: {1: 2, 2: 2, 3: 2, 5: 1, 6: 1, 7: 1, 8: 1, 9: 1}\n"
     ]
    }
   ],
   "source": [
    "#Program-8\n",
    "\n",
    "my_list=[1,2,3,3,5,2,6,7,8,9,1]\n",
    "\n",
    "count_dict={}\n",
    "for item in my_list:\n",
    "    if item in count_dict:\n",
    "        count_dict[item]+=1\n",
    "    else:\n",
    "        count_dict[item]=1\n",
    "\n",
    "print(\"Element Count:\",count_dict)"
   ]
  },
  {
   "cell_type": "code",
   "execution_count": 1,
   "id": "8a8e52ea-e8e3-4a70-b864-1462af0d804b",
   "metadata": {},
   "outputs": [
    {
     "name": "stdout",
     "output_type": "stream",
     "text": [
      "updated set: {'yellow', 'blue', 'black', 'orange'}\n"
     ]
    }
   ],
   "source": [
    "#Program-9\n",
    "\n",
    "my_set={'yellow','orange'}\n",
    "my_list=['blue','black']\n",
    "my_set.update(my_list)\n",
    "print(\"updated set:\",my_set)"
   ]
  },
  {
   "cell_type": "code",
   "execution_count": 4,
   "id": "cb45ee1d-c12a-4bbb-a610-23a39315db94",
   "metadata": {},
   "outputs": [
    {
     "name": "stdout",
     "output_type": "stream",
     "text": [
      "1 \n",
      "1 2 \n",
      "1 2 3 \n",
      "1 2 3 4 \n",
      "1 2 3 4 5 \n"
     ]
    }
   ],
   "source": [
    "#Program-10\n",
    "\n",
    "n=5\n",
    "\n",
    "for i in range(1,n+1):\n",
    "    for j in range(1,i+1):\n",
    "        print(j,end=\" \")\n",
    "    print()"
   ]
  },
  {
   "cell_type": "code",
   "execution_count": 12,
   "id": "fb0980ef-b81a-4a05-9814-a4ef989ecb3d",
   "metadata": {},
   "outputs": [
    {
     "name": "stdin",
     "output_type": "stream",
     "text": [
      "Enter Total number that you want sum:- 5\n"
     ]
    },
    {
     "name": "stdout",
     "output_type": "stream",
     "text": [
      "Sum of 1 to  5 is :  15\n"
     ]
    }
   ],
   "source": [
    "#Program-11\n",
    "\n",
    "def Sum_of_num(n):\n",
    "    i=1\n",
    "    s=0\n",
    "    while i<=n:\n",
    "        s+=i\n",
    "        i=i+1\n",
    "    return s\n",
    "\n",
    "num=int(input(\"Enter Total number that you want sum:-\"))\n",
    "s=Sum_of_num(num)\n",
    "print(\"Sum of 1 to \",num,\"number is : \",s) "
   ]
  },
  {
   "cell_type": "code",
   "execution_count": 1,
   "id": "5dc4abfd-9c57-48f8-a1c0-d6f6714b2e32",
   "metadata": {},
   "outputs": [
    {
     "name": "stdin",
     "output_type": "stream",
     "text": [
      "Enter numbers that seperated by commas:- 4,15,43,160\n"
     ]
    },
    {
     "name": "stdout",
     "output_type": "stream",
     "text": [
      "15\n"
     ]
    }
   ],
   "source": [
    "#Program-12\n",
    "\n",
    "numbers=list(map(int,input(\"Enter numbers that seperated by commas:-\").split(\",\")))\n",
    "\n",
    "for num in numbers:\n",
    "    if num>150:\n",
    "        break\n",
    "    if num%5==0:\n",
    "        print(num)"
   ]
  },
  {
   "cell_type": "code",
   "execution_count": 3,
   "id": "b8bbb16b-3556-4965-8a89-964c492646b8",
   "metadata": {},
   "outputs": [
    {
     "name": "stdout",
     "output_type": "stream",
     "text": [
      "Original List: [10, 20, 30, 40]\n",
      "Reversed list is: [40, 30, 20, 10]\n"
     ]
    }
   ],
   "source": [
    "#Program-13\n",
    "\n",
    "list1=[10,20,30,40]\n",
    "reversed_list=[]\n",
    "for num in range(len(list1)-1,-1,-1):\n",
    "    reversed_list.append(list1[num])\n",
    "print(\"Original List:\", list1)\n",
    "print(\"Reversed list is:\",reversed_list)"
   ]
  },
  {
   "cell_type": "code",
   "execution_count": 8,
   "id": "de622a61-2ee0-4164-b2a0-885bf900fa51",
   "metadata": {},
   "outputs": [
    {
     "name": "stdin",
     "output_type": "stream",
     "text": [
      "Enter start of range:  10\n",
      "Enter end of range:  40\n"
     ]
    },
    {
     "name": "stdout",
     "output_type": "stream",
     "text": [
      "Prime numbers between 10 and 40 are:\n",
      "11 13 17 19 23 29 31 37 "
     ]
    }
   ],
   "source": [
    "#Program-14\n",
    "\n",
    "def Display_Primes(start, end):\n",
    "    for n in range(start, end + 1):\n",
    "        if n > 1:\n",
    "            is_prime = True\n",
    "            for i in range(2, int(n**0.5) + 1):\n",
    "                if n % i == 0:\n",
    "                    is_prime = False\n",
    "                    break\n",
    "            if is_prime:\n",
    "                print(n, end=\" \")\n",
    "\n",
    "start = int(input(\"Enter start of range: \"))\n",
    "end = int(input(\"Enter end of range: \"))\n",
    "\n",
    "print(\"Prime numbers between\", start, \"and\", end, \"are:\")\n",
    "Display_Primes(start, end)"
   ]
  },
  {
   "cell_type": "code",
   "execution_count": 9,
   "id": "022fb1bd-7bc3-48f3-9bb2-853016cfef36",
   "metadata": {},
   "outputs": [
    {
     "name": "stdout",
     "output_type": "stream",
     "text": [
      "✅ Car Toyota Fortuner bought and added to showroom!\n",
      "✅ Car Tesla Model 3 bought and added to showroom!\n",
      "✅ Car BMW X5 bought and added to showroom!\n",
      "\n",
      "🚗 Available Cars in Showroom:\n",
      "\n",
      "   Car ID   Brand     Model  Year    Price                    Features\n",
      "0       1  Toyota  Fortuner  2023  3500000      SUV, Diesel, Automatic\n",
      "1       2   Tesla   Model 3  2024  5000000  Electric, Autopilot, Sedan\n",
      "2       3     BMW        X5  2022  7500000         Luxury, Petrol, SUV\n",
      "\n",
      "📋 Car Details:\n",
      "Car ID: 2\n",
      "Brand: Tesla\n",
      "Model: Model 3\n",
      "Year: 2024\n",
      "Price: 5000000\n",
      "Features: Electric, Autopilot, Sedan\n",
      "✅ Car Toyota Fortuner has been SOLD!\n",
      "\n",
      "🚗 Available Cars in Showroom:\n",
      "\n",
      "   Car ID  Brand    Model  Year    Price                    Features\n",
      "0       2  Tesla  Model 3  2024  5000000  Electric, Autopilot, Sedan\n",
      "1       3    BMW       X5  2022  7500000         Luxury, Petrol, SUV\n"
     ]
    },
    {
     "name": "stdin",
     "output_type": "stream",
     "text": [
      "Enter Car Brand:  tesla\n",
      "Enter Car Model:  model 3\n",
      "Enter Car Year:  2002\n",
      "Enter Car Price:  3000000\n",
      "Enter Car Features (comma separated):  suv,diesel\n"
     ]
    },
    {
     "name": "stdout",
     "output_type": "stream",
     "text": [
      "✅ Car tesla model 3 bought and added to showroom!\n",
      "\n",
      "🚗 Available Cars in Showroom:\n",
      "\n",
      "   Car ID  Brand    Model  Year    Price                    Features\n",
      "0       2  Tesla  Model 3  2024  5000000  Electric, Autopilot, Sedan\n",
      "1       3    BMW       X5  2022  7500000         Luxury, Petrol, SUV\n",
      "2     640  tesla  model 3  2002  3000000                 suv, diesel\n"
     ]
    }
   ],
   "source": [
    "#Program-15\n",
    "\n",
    "import pandas as pd\n",
    "import numpy as np\n",
    "\n",
    "# ---------------- Car Class ----------------\n",
    "class Car:\n",
    "    def __init__(self, car_id, brand, model, year, price, features):\n",
    "        self.car_id = car_id\n",
    "        self.brand = brand\n",
    "        self.model = model\n",
    "        self.year = year\n",
    "        self.price = price\n",
    "        self.features = features\n",
    "\n",
    "    def display_details(self):\n",
    "        return {\n",
    "            \"Car ID\": self.car_id,\n",
    "            \"Brand\": self.brand,\n",
    "            \"Model\": self.model,\n",
    "            \"Year\": self.year,\n",
    "            \"Price\": self.price,\n",
    "            \"Features\": \", \".join(self.features)\n",
    "        }\n",
    "\n",
    "\n",
    "# ---------------- Showroom Class ----------------\n",
    "class Showroom:\n",
    "    def __init__(self):\n",
    "        self.cars = {}   # Dictionary to store cars {id: Car}\n",
    "\n",
    "    # 1. Add/Buy a car\n",
    "    def buy_car(self, car):\n",
    "        self.cars[car.car_id] = car\n",
    "        print(f\" Car {car.brand} {car.model} bought and added to showroom!\")\n",
    "\n",
    "    # 2. View all cars (pandas DataFrame)\n",
    "    def view_cars(self):\n",
    "        if not self.cars:\n",
    "            print(\" No cars available in the showroom.\")\n",
    "            return\n",
    "        car_data = [car.display_details() for car in self.cars.values()]\n",
    "        df = pd.DataFrame(car_data)\n",
    "        print(\"\\nAvailable Cars in Showroom:\\n\")\n",
    "        print(df)\n",
    "\n",
    "    # 3. Display details of a car\n",
    "    def display_car(self, car_id):\n",
    "        if car_id in self.cars:\n",
    "            print(\"\\n Car Details:\")\n",
    "            for key, value in self.cars[car_id].display_details().items():\n",
    "                print(f\"{key}: {value}\")\n",
    "        else:\n",
    "            print(f\"Car with ID {car_id} not found!\")\n",
    "\n",
    "    # 4. Sell a car (remove from inventory)\n",
    "    def sell_car(self, car_id):\n",
    "        if car_id in self.cars:\n",
    "            sold_car = self.cars.pop(car_id)\n",
    "            print(f\" Car {sold_car.brand} {sold_car.model} has been SOLD!\")\n",
    "        else:\n",
    "            print(f\"Car with ID {car_id} not found!\")\n",
    "\n",
    "\n",
    "# ---------------- Main Program ----------------\n",
    "if __name__ == \"__main__\":\n",
    "    showroom = Showroom()\n",
    "\n",
    "    # Buy/Add some cars (Initial Inventory)\n",
    "    showroom.buy_car(Car(1, \"Toyota\", \"Fortuner\", 2023, 3500000, [\"SUV\", \"Diesel\", \"Automatic\"]))\n",
    "    showroom.buy_car(Car(2, \"Tesla\", \"Model 3\", 2024, 5000000, [\"Electric\", \"Autopilot\", \"Sedan\"]))\n",
    "    showroom.buy_car(Car(3, \"BMW\", \"X5\", 2022, 7500000, [\"Luxury\", \"Petrol\", \"SUV\"]))\n",
    "\n",
    "    # View all cars\n",
    "    showroom.view_cars()\n",
    "\n",
    "    # Display a single car's details\n",
    "    showroom.display_car(2)\n",
    "\n",
    "    # Sell a car\n",
    "    showroom.sell_car(1)\n",
    "\n",
    "    # View after selling\n",
    "    showroom.view_cars()\n",
    "\n",
    "    # Buy new car from user input\n",
    "    new_id = np.random.randint(100, 999)  # Random Car ID using numpy\n",
    "    brand = input(\"Enter Car Brand: \")\n",
    "    model = input(\"Enter Car Model: \")\n",
    "    year = int(input(\"Enter Car Year: \"))\n",
    "    price = int(input(\"Enter Car Price: \"))\n",
    "    features = input(\"Enter Car Features (comma separated): \").split(\",\")\n",
    "\n",
    "    showroom.buy_car(Car(new_id, brand, model, year, price, features))\n",
    "    showroom.view_cars()"
   ]
  },
  {
   "cell_type": "code",
   "execution_count": null,
   "id": "83993931-6ea3-4930-b9a9-54b877f90653",
   "metadata": {},
   "outputs": [],
   "source": []
  }
 ],
 "metadata": {
  "kernelspec": {
   "display_name": "Python [conda env:base] *",
   "language": "python",
   "name": "conda-base-py"
  },
  "language_info": {
   "codemirror_mode": {
    "name": "ipython",
    "version": 3
   },
   "file_extension": ".py",
   "mimetype": "text/x-python",
   "name": "python",
   "nbconvert_exporter": "python",
   "pygments_lexer": "ipython3",
   "version": "3.13.5"
  }
 },
 "nbformat": 4,
 "nbformat_minor": 5
}
